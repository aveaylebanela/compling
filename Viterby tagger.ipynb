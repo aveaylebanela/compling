{
 "cells": [
  {
   "cell_type": "code",
   "execution_count": 6,
   "metadata": {},
   "outputs": [],
   "source": [
    "import re"
   ]
  },
  {
   "cell_type": "code",
   "execution_count": 7,
   "metadata": {},
   "outputs": [
    {
     "name": "stdout",
     "output_type": "stream",
     "text": [
      "Corpus length (in words) = 95250\n"
     ]
    }
   ],
   "source": [
    "corpus_name = 'en_ewt-ud-train.conllu'\n",
    "with open(corpus_name) as f:\n",
    "    corpus = []\n",
    "    #corpus  = re.findall(r\"^\\d\\t(.*)\", data)\n",
    "    for line in f.readlines():\n",
    "        if re.match(r\"^\\d\\t(.*)\", line) != None:\n",
    "            line = re.split(r'\\t', line)\n",
    "            corpus.append(line)\n",
    "print('Corpus length (in words) = %d' % len(corpus))"
   ]
  },
  {
   "cell_type": "markdown",
   "metadata": {},
   "source": [
    "Пусть первые 7000 слов будут обучающей выборкой, а остальные контрольной"
   ]
  },
  {
   "cell_type": "code",
   "execution_count": 8,
   "metadata": {},
   "outputs": [],
   "source": [
    "test = corpus[7002:]\n",
    "corpus = corpus[:7002]"
   ]
  },
  {
   "cell_type": "markdown",
   "metadata": {},
   "source": [
    "##  HMM-tagger"
   ]
  },
  {
   "cell_type": "code",
   "execution_count": 9,
   "metadata": {},
   "outputs": [],
   "source": [
    "tags = {}\n",
    "prob_tags = {}\n",
    "for token in range(len(corpus)):\n",
    "    tag = corpus[token][4]\n",
    "    counter = tags.get(tag)\n",
    "    if counter == None:\n",
    "        counter = 0\n",
    "    tags.update({tag:counter+1})\n",
    "for tag in tags:\n",
    "    tag_count = tags.get(tag)\n",
    "    count = 1 + tag_count/len(corpus)\n",
    "    prob_tags.update({tag:count})"
   ]
  },
  {
   "cell_type": "code",
   "execution_count": 10,
   "metadata": {},
   "outputs": [],
   "source": [
    "tag_word_bag = {}\n",
    "word_tag_bag = {}\n",
    "for token in range(len(corpus)):\n",
    "    pair = (corpus[token][4], corpus[token][1])\n",
    "    counter = tag_word_bag.get(pair)\n",
    "    if counter == None:\n",
    "        counter = 0\n",
    "    tag_word_bag.update({pair:counter+1})\n",
    "\n",
    "for thing in tag_word_bag:\n",
    "    tag = thing[0]\n",
    "    word = thing[1]\n",
    "    count = 1 + tag_word_bag.get(thing)/tags.get(tag)\n",
    "    word_tag_bag.setdefault(word, {})[tag] = count"
   ]
  },
  {
   "cell_type": "code",
   "execution_count": 20,
   "metadata": {
    "scrolled": true
   },
   "outputs": [],
   "source": [
    "tag_bigram_ = {}\n",
    "tag_bigram = {}\n",
    "for thing in range(len(corpus)-1):\n",
    "    pair = (corpus[thing][4], corpus[thing+1][4])\n",
    "    count = tag_bigram_.get(pair)\n",
    "    if count == None:\n",
    "        count = 0\n",
    "    tag_bigram_.update({pair:count+1})\n",
    "\n",
    "for thing in tag_bigram_:\n",
    "    tag_1 = thing[0]\n",
    "    tag_2 = thing[1]\n",
    "    count = 1 + tag_bigram_.get(thing)/len(tag_bigram_)\n",
    "    tag_bigram.setdefault(tag_1, {})[tag_2] = count"
   ]
  },
  {
   "cell_type": "code",
   "execution_count": 72,
   "metadata": {},
   "outputs": [
    {
     "name": "stdout",
     "output_type": "stream",
     "text": [
      "[['Police', 'NNS', 1.0035211267605635]]\n",
      "{'CC': 1.5864197530864197}\n",
      "and\n",
      "CC\n",
      "[['WP', 1.621673525377229], ['WDT', 1.621673525377229], ['VBZ', 1.621673525377229], ['VBP', 1.621673525377229], ['VBN', 1.621673525377229], ['VBG', 1.621673525377229], ['VBD', 1.621673525377229], ['TO', 1.621673525377229], ['RP', 1.621673525377229], ['RB', 1.621673525377229], ['PRP$', 1.621673525377229], ['PRP', 1.621673525377229], ['POS', 1.621673525377229], ['NNPS', 1.621673525377229], ['NNP', 1.621673525377229], ['NN', 1.621673525377229], ['MD', 1.621673525377229], ['JJ', 1.621673525377229], ['IN', 1.621673525377229], ['HYPH', 1.621673525377229], ['EX', 1.621673525377229], ['DT', 1.621673525377229], ['CC', 1.621673525377229], ['CC', 1.621673525377229], [':', 1.621673525377229], ['.', 1.621673525377229], ['-LRB-', 1.621673525377229], [',', 1.621673525377229], [\"''\", 1.621673525377229]]\n",
      "[['Police', 'NNS', 1.0035211267605635], ['and', 1.621673525377229, 'WP']]\n",
      "{'NNS': 1.0035211267605635}\n",
      "prosecutors\n",
      "NNS\n"
     ]
    },
    {
     "ename": "AttributeError",
     "evalue": "'NoneType' object has no attribute 'get'",
     "output_type": "error",
     "traceback": [
      "\u001b[0;31m---------------------------------------------------------------------------\u001b[0m",
      "\u001b[0;31mAttributeError\u001b[0m                            Traceback (most recent call last)",
      "\u001b[0;32m<ipython-input-72-6cb9c9cf53ef>\u001b[0m in \u001b[0;36m<module>\u001b[0;34m()\u001b[0m\n\u001b[1;32m     30\u001b[0m                 \u001b[0mprob\u001b[0m \u001b[0;34m==\u001b[0m \u001b[0mprev_tags\u001b[0m\u001b[0;34m.\u001b[0m\u001b[0mget\u001b[0m\u001b[0;34m(\u001b[0m\u001b[0mthing\u001b[0m\u001b[0;34m)\u001b[0m\u001b[0;34m\u001b[0m\u001b[0m\n\u001b[1;32m     31\u001b[0m             \u001b[0;32melse\u001b[0m\u001b[0;34m:\u001b[0m\u001b[0;34m\u001b[0m\u001b[0m\n\u001b[0;32m---> 32\u001b[0;31m                 \u001b[0mprob\u001b[0m \u001b[0;34m=\u001b[0m \u001b[0mprev_tags\u001b[0m\u001b[0;34m.\u001b[0m\u001b[0mget\u001b[0m\u001b[0;34m(\u001b[0m\u001b[0mthing\u001b[0m\u001b[0;34m)\u001b[0m \u001b[0;34m*\u001b[0m \u001b[0mem_tags\u001b[0m\u001b[0;34m.\u001b[0m\u001b[0mget\u001b[0m\u001b[0;34m(\u001b[0m\u001b[0mthing\u001b[0m\u001b[0;34m)\u001b[0m\u001b[0;34m\u001b[0m\u001b[0m\n\u001b[0m\u001b[1;32m     33\u001b[0m             \u001b[0mall_tags\u001b[0m\u001b[0;34m.\u001b[0m\u001b[0mappend\u001b[0m\u001b[0;34m(\u001b[0m\u001b[0;34m[\u001b[0m\u001b[0mthing\u001b[0m\u001b[0;34m,\u001b[0m \u001b[0mprob\u001b[0m\u001b[0;34m]\u001b[0m\u001b[0;34m)\u001b[0m\u001b[0;34m\u001b[0m\u001b[0m\n\u001b[1;32m     34\u001b[0m         \u001b[0;32mfor\u001b[0m \u001b[0mthing\u001b[0m \u001b[0;32min\u001b[0m \u001b[0mprev_tags\u001b[0m\u001b[0;34m:\u001b[0m\u001b[0;34m\u001b[0m\u001b[0m\n",
      "\u001b[0;31mAttributeError\u001b[0m: 'NoneType' object has no attribute 'get'"
     ]
    }
   ],
   "source": [
    "tagged_seq = []\n",
    "for word in range(len(test)):\n",
    "    prob = []\n",
    "    if test[word][0] == str(1):\n",
    "        tags = word_tag_bag.get(test[word][1])\n",
    "        all_tags = []\n",
    "        try:    \n",
    "            for thing in tags:   \n",
    "                tag_prob = []\n",
    "                prob = tags.get(thing)\n",
    "                tag_prob.append(prob)\n",
    "                tag_prob.append(thing)\n",
    "                all_tags.append(tag_prob)\n",
    "        except TypeError:\n",
    "            all_tags.append([1, 'UnkWord'])\n",
    "        all_tags = sorted(all_tags, reverse = True)\n",
    "        word_and_the_tag = [test[word][1], all_tags[0][1], all_tags[0][0]]\n",
    "        tagged_seq.append(word_and_the_tag)\n",
    "    else:\n",
    "        print (tagged_seq)\n",
    "        all_tags = []\n",
    "        prev_tag = tagged_seq[word-1][1]\n",
    "        prev_tags = tag_bigram.get(prev_tag)\n",
    "        em_tags = word_tag_bag.get(test[word][1])\n",
    "        print(em_tags)\n",
    "        print(test[word][1])\n",
    "        for thing in em_tags:\n",
    "            print (thing)\n",
    "            if prev_tags.get(thing) == None:\n",
    "                prob == prev_tags.get(thing)\n",
    "            else:\n",
    "                prob = prev_tags.get(thing) * em_tags.get(thing)\n",
    "            all_tags.append([thing, prob])\n",
    "        for thing in prev_tags:\n",
    "            if thing == None:\n",
    "                prob = em_tags.get(thing)\n",
    "            all_tags.append([thing, prob])\n",
    "        all_tags = sorted(all_tags, reverse = True)\n",
    "        word_and_the_tag = [test[word][1], all_tags[0][1], all_tags[0][0]]\n",
    "        tagged_seq.append(word_and_the_tag)\n",
    "        print (all_tags)\n",
    "print (tagged_seq)"
   ]
  },
  {
   "cell_type": "code",
   "execution_count": 70,
   "metadata": {},
   "outputs": [
    {
     "data": {
      "text/plain": [
       "{'NNS': 1.0035211267605635}"
      ]
     },
     "execution_count": 70,
     "metadata": {},
     "output_type": "execute_result"
    }
   ],
   "source": [
    "word_tag_bag.get('prosecutors')"
   ]
  },
  {
   "cell_type": "code",
   "execution_count": 71,
   "metadata": {},
   "outputs": [
    {
     "data": {
      "text/plain": [
       "{'VBD': 1.0414814814814815,\n",
       " 'DT': 1.0103703703703704,\n",
       " 'NNP': 1.0118518518518518,\n",
       " 'IN': 1.1377777777777778,\n",
       " 'VBP': 1.0577777777777777,\n",
       " 'NNPS': 1.002962962962963,\n",
       " 'EX': 1.0014814814814814,\n",
       " 'PRP': 1.0074074074074073,\n",
       " \"''\": 1.002962962962963,\n",
       " 'JJ': 1.0103703703703704,\n",
       " 'RB': 1.0162962962962963,\n",
       " ':': 1.0014814814814814,\n",
       " ',': 1.0340740740740741,\n",
       " 'CC': 1.0222222222222221,\n",
       " 'WDT': 1.0103703703703704,\n",
       " '.': 1.0118518518518518,\n",
       " 'MD': 1.005925925925926,\n",
       " 'NN': 1.005925925925926,\n",
       " 'TO': 1.0044444444444445,\n",
       " 'VBN': 1.0074074074074073,\n",
       " '-LRB-': 1.0014814814814814,\n",
       " 'VBG': 1.002962962962963,\n",
       " 'VBZ': 1.002962962962963,\n",
       " 'WP': 1.002962962962963,\n",
       " 'POS': 1.0014814814814814,\n",
       " 'HYPH': 1.0014814814814814,\n",
       " 'RP': 1.0014814814814814,\n",
       " 'PRP$': 1.0014814814814814}"
      ]
     },
     "execution_count": 71,
     "metadata": {},
     "output_type": "execute_result"
    }
   ],
   "source": [
    "tag_bigram.get('NNS')"
   ]
  }
 ],
 "metadata": {
  "kernelspec": {
   "display_name": "Python 3",
   "language": "python",
   "name": "python3"
  },
  "language_info": {
   "codemirror_mode": {
    "name": "ipython",
    "version": 3
   },
   "file_extension": ".py",
   "mimetype": "text/x-python",
   "name": "python",
   "nbconvert_exporter": "python",
   "pygments_lexer": "ipython3",
   "version": "3.7.0"
  }
 },
 "nbformat": 4,
 "nbformat_minor": 2
}
