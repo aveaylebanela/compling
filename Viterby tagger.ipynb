{
 "cells": [
  {
   "cell_type": "code",
   "execution_count": 1,
   "metadata": {},
   "outputs": [],
   "source": [
    "import re"
   ]
  },
  {
   "cell_type": "code",
   "execution_count": 38,
   "metadata": {},
   "outputs": [
    {
     "name": "stdout",
     "output_type": "stream",
     "text": [
      "Corpus length (in sentences) = 95250\n"
     ]
    }
   ],
   "source": [
    "corpus_name = 'en_ewt-ud-train.conllu'\n",
    "with open(corpus_name) as f:\n",
    "    corpus = []\n",
    "    #corpus  = re.findall(r\"^\\d\\t(.*)\", data)\n",
    "    for line in f.readlines():\n",
    "        if re.match(r\"^\\d\\t(.*)\", line) != None:\n",
    "            line = re.split(r'\\t', line)\n",
    "            corpus.append(line)\n",
    "print('Corpus length (in words) = %d' % len(corpus))"
   ]
  },
  {
   "cell_type": "markdown",
   "metadata": {},
   "source": [
    "Пусть первые 7000 слов будут обучающей выборкой, а остальные контрольной"
   ]
  },
  {
   "cell_type": "code",
   "execution_count": 85,
   "metadata": {},
   "outputs": [],
   "source": [
    "test = corpus[7000:]\n",
    "corpus = corpus[:7000]"
   ]
  },
  {
   "cell_type": "markdown",
   "metadata": {},
   "source": [
    "##  HMM-tagger"
   ]
  },
  {
   "cell_type": "code",
   "execution_count": 86,
   "metadata": {},
   "outputs": [],
   "source": [
    "tags = {}\n",
    "prob_tags = {}\n",
    "for token in range(len(corpus)):\n",
    "    tag = corpus[token][4]\n",
    "    counter = tags.get(tag)\n",
    "    if counter == None:\n",
    "        counter = 0\n",
    "    tags.update({tag:counter+1})\n",
    "for tag in tags:\n",
    "    tag_count = tags.get(tag)\n",
    "    count = tag_count/len(corpus)\n",
    "    prob_tags.update({tag:count})"
   ]
  },
  {
   "cell_type": "code",
   "execution_count": 105,
   "metadata": {},
   "outputs": [],
   "source": [
    "tag_word_bag = {}\n",
    "word_tag_bag = {}\n",
    "for token in range(len(corpus)):\n",
    "    pair = (corpus[token][4], corpus[token][1])\n",
    "    counter = tag_word_bag.get(pair)\n",
    "    if counter == None:\n",
    "        counter = 0\n",
    "    tag_word_bag.update({pair:counter+1})\n",
    "\n",
    "for thing in tag_word_bag:\n",
    "    tag = thing[0]\n",
    "    word = thing[1]\n",
    "    count = tag_word_bag.get(thing)/tags.get(tag)\n",
    "    word_tag_bag.setdefault(word, {})[tag] = count"
   ]
  },
  {
   "cell_type": "code",
   "execution_count": 119,
   "metadata": {},
   "outputs": [],
   "source": [
    "thing = word_tag_bag.get('killing')"
   ]
  },
  {
   "cell_type": "code",
   "execution_count": 132,
   "metadata": {},
   "outputs": [
    {
     "name": "stdout",
     "output_type": "stream",
     "text": [
      "[[0.0014084507042253522, 'NN'], [0.01652892561983471, 'VBG']]\n"
     ]
    }
   ],
   "source": [
    "m = []\n",
    "for i in thing.items():\n",
    "    l = []\n",
    "    l.append(i[1])\n",
    "    l.append(i[0])\n",
    "    m.append(l)\n",
    "m = sorted(m)"
   ]
  },
  {
   "cell_type": "code",
   "execution_count": 143,
   "metadata": {},
   "outputs": [
    {
     "ename": "AttributeError",
     "evalue": "'NoneType' object has no attribute 'items'",
     "output_type": "error",
     "traceback": [
      "\u001b[0;31m---------------------------------------------------------------------------\u001b[0m",
      "\u001b[0;31mAttributeError\u001b[0m                            Traceback (most recent call last)",
      "\u001b[0;32m<ipython-input-143-059df72f677c>\u001b[0m in \u001b[0;36m<module>\u001b[0;34m()\u001b[0m\n\u001b[1;32m     17\u001b[0m         \u001b[0mprev_tag\u001b[0m \u001b[0;34m=\u001b[0m \u001b[0mword_tag_bag\u001b[0m\u001b[0;34m.\u001b[0m\u001b[0mget\u001b[0m\u001b[0;34m(\u001b[0m\u001b[0mprev\u001b[0m\u001b[0;34m)\u001b[0m\u001b[0;34m\u001b[0m\u001b[0m\n\u001b[1;32m     18\u001b[0m         \u001b[0mm\u001b[0m \u001b[0;34m=\u001b[0m \u001b[0;34m[\u001b[0m\u001b[0;34m]\u001b[0m\u001b[0;34m\u001b[0m\u001b[0m\n\u001b[0;32m---> 19\u001b[0;31m         \u001b[0;32mfor\u001b[0m \u001b[0mi\u001b[0m \u001b[0;32min\u001b[0m \u001b[0mword_tag\u001b[0m\u001b[0;34m.\u001b[0m\u001b[0mitems\u001b[0m\u001b[0;34m(\u001b[0m\u001b[0;34m)\u001b[0m\u001b[0;34m:\u001b[0m\u001b[0;34m\u001b[0m\u001b[0m\n\u001b[0m\u001b[1;32m     20\u001b[0m             \u001b[0ml\u001b[0m \u001b[0;34m=\u001b[0m \u001b[0;34m[\u001b[0m\u001b[0;34m]\u001b[0m\u001b[0;34m\u001b[0m\u001b[0m\n\u001b[1;32m     21\u001b[0m             \u001b[0ml\u001b[0m\u001b[0;34m.\u001b[0m\u001b[0mappend\u001b[0m\u001b[0;34m(\u001b[0m\u001b[0mi\u001b[0m\u001b[0;34m[\u001b[0m\u001b[0;36m1\u001b[0m\u001b[0;34m]\u001b[0m\u001b[0;34m)\u001b[0m\u001b[0;34m\u001b[0m\u001b[0m\n",
      "\u001b[0;31mAttributeError\u001b[0m: 'NoneType' object has no attribute 'items'"
     ]
    }
   ],
   "source": [
    "tagged = []\n",
    "for token in range(len(test)-1):\n",
    "    word = test[token][1]\n",
    "    word_tag = word_tag_bag.get(word)\n",
    "    if test[token][1] == 1:\n",
    "        m = []\n",
    "        for i in word_tag.items():\n",
    "            l = []\n",
    "            l.append(i[1])\n",
    "            l.append(i[0])\n",
    "        m.append(l)\n",
    "        m = sorted(m)\n",
    "        tag = m[0]\n",
    "        prob = tag[0]* tags.get(tag[1])\n",
    "    else:\n",
    "        prev = test[token-1][1]\n",
    "        prev_tag = word_tag_bag.get(prev)\n",
    "        m = []\n",
    "        for i in word_tag.items():\n",
    "            l = []\n",
    "            l.append(i[1])\n",
    "            l.append(i[0])\n",
    "            m.append(l)\n",
    "        m = sorted(m)\n",
    "        tag = m[0]\n",
    "        m1 = []\n",
    "        for i in prev_tag.items():\n",
    "            l = []\n",
    "            l.append(i[1])\n",
    "            l.append(i[0])\n",
    "        m1.append(l)\n",
    "        m1 = sorted(m)\n",
    "        tag_prev = m[0]\n",
    "        prob = tag[0] * tag_prev[0] * tags.get(tag_prev[1])"
   ]
  }
 ],
 "metadata": {
  "kernelspec": {
   "display_name": "Python 3",
   "language": "python",
   "name": "python3"
  },
  "language_info": {
   "codemirror_mode": {
    "name": "ipython",
    "version": 3
   },
   "file_extension": ".py",
   "mimetype": "text/x-python",
   "name": "python",
   "nbconvert_exporter": "python",
   "pygments_lexer": "ipython3",
   "version": "3.7.0"
  }
 },
 "nbformat": 4,
 "nbformat_minor": 2
}
