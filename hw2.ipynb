{
 "cells": [
  {
   "cell_type": "code",
   "execution_count": 1,
   "metadata": {},
   "outputs": [],
   "source": [
    "import nltk"
   ]
  },
  {
   "cell_type": "code",
   "execution_count": 7,
   "metadata": {},
   "outputs": [],
   "source": [
    "rules = \"\"\"\n",
    "    S -> NP VP | VP\n",
    "    NP -> Det ADJ N | Det N | NN\n",
    "    V1 -> V V \n",
    "    VP -> V NP | V | V1 NP\n",
    "    Det -> 'какое-нибудь' | 'мою' | 'Этот' | 'всякие'\n",
    "    ADJ -> 'веселый'\n",
    "    N -> 'мальчик' | 'книги' | 'письмо' | 'книгу'\n",
    "    NN -> 'Вася' | 'Он'\n",
    "    V -> 'читает' | 'Напиши' | 'идет' | 'любит' | 'читать' \n",
    "\"\"\".split('\\n')"
   ]
  },
  {
   "cell_type": "code",
   "execution_count": 3,
   "metadata": {},
   "outputs": [],
   "source": [
    "text = \"\"\"Вася читает мою книгу\n",
    "Напиши какое-нибудь письмо\n",
    "Этот веселый мальчик идет\n",
    "Он любит читать всякие книги\"\"\".split('\\n')"
   ]
  },
  {
   "cell_type": "markdown",
   "metadata": {},
   "source": [
    "**АНАЛИЗ ПРИ ПРИМИНЕНИИ АЛГОРИТМА КЯК**  \n",
    "__Он любит читать всякие книги  \n",
    "1 NN_V_____V_____Det___N____(NN -> он, V -> любит, V -> читать, Det -> всякие, N -> книги)  \n",
    "2 NP_V1__________NP_________(V1 -> V V, NP -> Det N)  \n",
    "3 NP_VP_____________________(VP -> V1 NP)   \n",
    "4 S_________________________(S -> NP VP  "
   ]
  },
  {
   "cell_type": "markdown",
   "metadata": {},
   "source": [
    "**АНАЛИЗ ПРИ ПРИМЕНЕНИИ АЛГОРИТМА ЭРЛИ**\n"
   ]
  },
  {
   "cell_type": "code",
   "execution_count": 8,
   "metadata": {},
   "outputs": [],
   "source": [
    "grammar = nltk.CFG.fromstring('\\n'.join(rules))\n",
    "cp = nltk.EarleyChartParser(grammar)"
   ]
  },
  {
   "cell_type": "code",
   "execution_count": 9,
   "metadata": {},
   "outputs": [],
   "source": [
    "def print_parses(parser, sentence):\n",
    "    for tree in parser.parse(sentence.split()):\n",
    "        print(tree)\n",
    "        print()"
   ]
  },
  {
   "cell_type": "code",
   "execution_count": 10,
   "metadata": {
    "scrolled": true
   },
   "outputs": [
    {
     "name": "stdout",
     "output_type": "stream",
     "text": [
      "(S (NP (NN Вася)) (VP (V читает) (NP (Det мою) (N книгу))))\n",
      "\n",
      "(S (VP (V Напиши) (NP (Det какое-нибудь) (N письмо))))\n",
      "\n",
      "(S (NP (Det Этот) (ADJ веселый) (N мальчик)) (VP (V идет)))\n",
      "\n",
      "(S\n",
      "  (NP (NN Он))\n",
      "  (VP (V1 (V любит) (V читать)) (NP (Det всякие) (N книги))))\n",
      "\n"
     ]
    }
   ],
   "source": [
    "for sentence in text:\n",
    "    print_parses(cp, sentence)"
   ]
  },
  {
   "cell_type": "markdown",
   "metadata": {},
   "source": [
    "**Как можно разбирать неизвестные слова**  \n",
    "Чтобы разбирать предложения с новыми словами надо использовать морфологический анализатор.  \n",
    "Важно написать непротиворечивую и полную грамматику.  \n",
    "И первый уровень матрицы для КЯК размечать анализатором, а остальные более высокие уровни абстракции – синтаксическим парсером.  \n"
   ]
  },
  {
   "cell_type": "code",
   "execution_count": null,
   "metadata": {},
   "outputs": [],
   "source": []
  },
  {
   "cell_type": "code",
   "execution_count": null,
   "metadata": {},
   "outputs": [],
   "source": []
  }
 ],
 "metadata": {
  "kernelspec": {
   "display_name": "Python 3",
   "language": "python",
   "name": "python3"
  },
  "language_info": {
   "codemirror_mode": {
    "name": "ipython",
    "version": 3
   },
   "file_extension": ".py",
   "mimetype": "text/x-python",
   "name": "python",
   "nbconvert_exporter": "python",
   "pygments_lexer": "ipython3",
   "version": "3.7.0"
  }
 },
 "nbformat": 4,
 "nbformat_minor": 2
}
