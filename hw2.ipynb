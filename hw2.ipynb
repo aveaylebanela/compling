{
 "cells": [
  {
   "cell_type": "code",
   "execution_count": 1,
   "metadata": {},
   "outputs": [],
   "source": [
    "import nltk"
   ]
  },
  {
   "cell_type": "code",
   "execution_count": 7,
   "metadata": {},
   "outputs": [],
   "source": [
    "rules = \"\"\"\n",
    "    S -> NP VP | VP\n",
    "    NP -> Det ADJ N | Det N | NN\n",
    "    V1 -> V V \n",
    "    VP -> V NP | V | V1 NP\n",
    "    Det -> 'какое-нибудь' | 'мою' | 'Этот' | 'всякие'\n",
    "    ADJ -> 'веселый'\n",
    "    N -> 'мальчик' | 'книги' | 'письмо' | 'книгу'\n",
    "    NN -> 'Вася' | 'Он'\n",
    "    V -> 'читает' | 'Напиши' | 'идет' | 'любит' | 'читать' \n",
    "\"\"\".split('\\n')"
   ]
  },
  {
   "cell_type": "code",
   "execution_count": 3,
   "metadata": {},
   "outputs": [],
   "source": [
    "text = \"\"\"Вася читает мою книгу\n",
    "Напиши какое-нибудь письмо\n",
    "Этот веселый мальчик идет\n",
    "Он любит читать всякие книги\"\"\".split('\\n')"
   ]
  },
  {
   "cell_type": "markdown",
   "metadata": {},
   "source": [
    "**АНАЛИЗ ПРИ ПРИМИНЕНИИ АЛГОРИТМА КЯК**  \n",
    "Он любит читать всякие книги  \n",
    "1 (NN -> он, V -> любит, V -> читать, Det -> всякие, N -> книги)  \n",
    "2 (V1 -> V V, NP -> Det N)  \n",
    "3 (VP -> V1 NP)   \n",
    "4 (S -> NP VP)  "
   ]
  },
  {
   "cell_type": "code",
   "execution_count": 1,
   "metadata": {
    "scrolled": true
   },
   "outputs": [
    {
     "ename": "NameError",
     "evalue": "name 'Он' is not defined",
     "output_type": "error",
     "traceback": [
      "\u001b[0;31m---------------------------------------------------------------------------\u001b[0m",
      "\u001b[0;31mNameError\u001b[0m                                 Traceback (most recent call last)",
      "\u001b[0;32m<ipython-input-1-9638df178f9c>\u001b[0m in \u001b[0;36m<module>\u001b[0;34m()\u001b[0m\n\u001b[0;32m----> 1\u001b[0;31m [[Он, любит, читать, всякие, книги],\n\u001b[0m\u001b[1;32m      2\u001b[0m  \u001b[0;34m[\u001b[0m\u001b[0mNN\u001b[0m\u001b[0;34m,\u001b[0m \u001b[0mV\u001b[0m\u001b[0;34m,\u001b[0m \u001b[0mV\u001b[0m\u001b[0;34m,\u001b[0m \u001b[0mDet\u001b[0m\u001b[0;34m,\u001b[0m \u001b[0mN\u001b[0m\u001b[0;34m]\u001b[0m\u001b[0;34m,\u001b[0m\u001b[0;34m\u001b[0m\u001b[0m\n\u001b[1;32m      3\u001b[0m  \u001b[0;34m[\u001b[0m\u001b[0mNP\u001b[0m\u001b[0;34m,\u001b[0m \u001b[0mV1\u001b[0m\u001b[0;34m,\u001b[0m \u001b[0;34m''\u001b[0m\u001b[0;34m,\u001b[0m \u001b[0mNp\u001b[0m\u001b[0;34m,\u001b[0m \u001b[0;34m''\u001b[0m\u001b[0;34m]\u001b[0m\u001b[0;34m,\u001b[0m\u001b[0;34m\u001b[0m\u001b[0m\n\u001b[1;32m      4\u001b[0m  \u001b[0;34m[\u001b[0m\u001b[0mNP\u001b[0m\u001b[0;34m,\u001b[0m \u001b[0mVP\u001b[0m\u001b[0;34m,\u001b[0m\u001b[0;34m''\u001b[0m\u001b[0;34m,\u001b[0m \u001b[0;34m''\u001b[0m\u001b[0;34m,\u001b[0m \u001b[0;34m''\u001b[0m\u001b[0;34m]\u001b[0m\u001b[0;34m\u001b[0m\u001b[0m\n\u001b[1;32m      5\u001b[0m  [S, '', '', '', '']]\n",
      "\u001b[0;31mNameError\u001b[0m: name 'Он' is not defined"
     ]
    }
   ],
   "source": [
    "[['Он', 'любит', 'читать', 'всякие', 'книги'],\n",
    " [NN, V, V, Det, N],\n",
    " [NP, V1, '', Np, ''],\n",
    " [NP, VP,'', '', '']\n",
    " [S, '', '', '', '']]"
   ]
  },
  {
   "cell_type": "markdown",
   "metadata": {},
   "source": [
    "**АНАЛИЗ ПРИ ПРИМЕНЕНИИ АЛГОРИТМА ЭРЛИ**\n",
    "Он любит читать всякие книги.\n",
    "\n",
    "1"
   ]
  },
  {
   "cell_type": "code",
   "execution_count": 8,
   "metadata": {},
   "outputs": [],
   "source": [
    "grammar = nltk.CFG.fromstring('\\n'.join(rules))\n",
    "cp = nltk.EarleyChartParser(grammar)"
   ]
  },
  {
   "cell_type": "code",
   "execution_count": 9,
   "metadata": {},
   "outputs": [],
   "source": [
    "def print_parses(parser, sentence):\n",
    "    for tree in parser.parse(sentence.split()):\n",
    "        print(tree)\n",
    "        print()"
   ]
  },
  {
   "cell_type": "code",
   "execution_count": 10,
   "metadata": {
    "scrolled": true
   },
   "outputs": [
    {
     "name": "stdout",
     "output_type": "stream",
     "text": [
      "(S (NP (NN Вася)) (VP (V читает) (NP (Det мою) (N книгу))))\n",
      "\n",
      "(S (VP (V Напиши) (NP (Det какое-нибудь) (N письмо))))\n",
      "\n",
      "(S (NP (Det Этот) (ADJ веселый) (N мальчик)) (VP (V идет)))\n",
      "\n",
      "(S\n",
      "  (NP (NN Он))\n",
      "  (VP (V1 (V любит) (V читать)) (NP (Det всякие) (N книги))))\n",
      "\n"
     ]
    }
   ],
   "source": [
    "for sentence in text:\n",
    "    print_parses(cp, sentence)"
   ]
  },
  {
   "cell_type": "markdown",
   "metadata": {},
   "source": [
    "**Как можно разбирать неизвестные слова**  \n",
    "Чтобы разбирать предложения с новыми словами надо использовать морфологический анализатор.  \n",
    "Важно написать непротиворечивую и полную грамматику.  \n",
    "И первый уровень матрицы для КЯК размечать анализатором, а остальные более высокие уровни абстракции – синтаксическим парсером.  \n",
    "\n",
    "*Что нужно сделать для того, чтобы получить такую грамматику, если вдруг появилось незнакомое слово?\n",
    "Незнакомое слово можно разметить теггером витерби."
   ]
  }
 ],
 "metadata": {
  "kernelspec": {
   "display_name": "Python 3",
   "language": "python",
   "name": "python3"
  },
  "language_info": {
   "codemirror_mode": {
    "name": "ipython",
    "version": 3
   },
   "file_extension": ".py",
   "mimetype": "text/x-python",
   "name": "python",
   "nbconvert_exporter": "python",
   "pygments_lexer": "ipython3",
   "version": "3.7.0"
  }
 },
 "nbformat": 4,
 "nbformat_minor": 2
}
